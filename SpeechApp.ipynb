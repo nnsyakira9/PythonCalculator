{
 "cells": [
  {
   "cell_type": "code",
   "execution_count": null,
   "id": "catholic-raise",
   "metadata": {},
   "outputs": [],
   "source": [
    "pip install SpeechRecognition"
   ]
  },
  {
   "cell_type": "code",
   "execution_count": 2,
   "id": "cheap-memorial",
   "metadata": {},
   "outputs": [
    {
     "name": "stdout",
     "output_type": "stream",
     "text": [
      "Requirement already satisfied: gTTS in c:\\users\\lenovo\\anaconda3\\envs\\tensorflow\\lib\\site-packages (2.2.2)Note: you may need to restart the kernel to use updated packages.\n",
      "Requirement already satisfied: six in c:\\users\\lenovo\\anaconda3\\envs\\tensorflow\\lib\\site-packages (from gTTS) (1.15.0)\n",
      "Requirement already satisfied: requests in c:\\users\\lenovo\\anaconda3\\envs\\tensorflow\\lib\\site-packages (from gTTS) (2.25.1)\n",
      "Requirement already satisfied: click in c:\\users\\lenovo\\anaconda3\\envs\\tensorflow\\lib\\site-packages (from gTTS) (7.1.2)\n",
      "Requirement already satisfied: urllib3<1.27,>=1.21.1 in c:\\users\\lenovo\\anaconda3\\envs\\tensorflow\\lib\\site-packages (from requests->gTTS) (1.26.3)\n",
      "Requirement already satisfied: certifi>=2017.4.17 in c:\\users\\lenovo\\anaconda3\\envs\\tensorflow\\lib\\site-packages (from requests->gTTS) (2020.12.5)\n",
      "Requirement already satisfied: chardet<5,>=3.0.2 in c:\\users\\lenovo\\anaconda3\\envs\\tensorflow\\lib\\site-packages (from requests->gTTS) (3.0.4)\n",
      "Requirement already satisfied: idna<3,>=2.5 in c:\\users\\lenovo\\anaconda3\\envs\\tensorflow\\lib\\site-packages (from requests->gTTS) (2.10)\n",
      "\n"
     ]
    }
   ],
   "source": [
    "pip install gTTS"
   ]
  },
  {
   "cell_type": "code",
   "execution_count": 3,
   "id": "valid-delhi",
   "metadata": {},
   "outputs": [
    {
     "name": "stdout",
     "output_type": "stream",
     "text": [
      "Requirement already satisfied: playsound in c:\\users\\lenovo\\anaconda3\\envs\\tensorflow\\lib\\site-packages (1.2.2)\n",
      "Note: you may need to restart the kernel to use updated packages.\n"
     ]
    }
   ],
   "source": [
    "pip install playsound"
   ]
  },
  {
   "cell_type": "code",
   "execution_count": null,
   "id": "surprised-thomas",
   "metadata": {},
   "outputs": [],
   "source": [
    "import speech_recognition as sr\n",
    "import webbrowser\n",
    "import time\n",
    "import playsound\n",
    "import os\n",
    "import random\n",
    "from gtts import gTTS\n",
    "from time import ctime\n",
    "\n",
    "r = sr.Recognizer()\n",
    "\n",
    "def record_audio(ask = False):\n",
    "    with sr.Microphone() as source:\n",
    "        if ask:\n",
    "            alexis_speak(ask)\n",
    "        audio = r.listen(source)\n",
    "        voice_data = ''\n",
    "        try:\n",
    "            voice_data = r.recognize_google(audio)\n",
    "        except sr.UnknownValueError:\n",
    "            alexis_speak('Sorry, I did not get that')\n",
    "        except sr.RequestError:\n",
    "            alexis_speak('Sorry, my speech service is down')\n",
    "        return voice_data\n",
    "    \n",
    "def alexis_speak(audio_string):\n",
    "    tts = gTTS(text=audio_string, lang='en')\n",
    "    r = random.randint(1, 10000000)\n",
    "    audio_file = 'audio-' + str(r) + '.mp3'\n",
    "    tts.save(audio_file)\n",
    "    playsound.playsound(audio_file)\n",
    "    print(audio_string)\n",
    "    os.remove(audio_file)\n",
    "    \n",
    "def respond(voice_data):\n",
    "    if 'what is your name' in voice_data:\n",
    "        alexis_speak('My name is Alexis')\n",
    "    if 'what time is it' in voice_data:\n",
    "        alexis_speak(ctime())\n",
    "    if 'search' in voice_data:\n",
    "        search = record_audio('What do you want to search for?')\n",
    "        url = 'https://google.com/search?q=' + search\n",
    "        webbrowser.get().open(url)\n",
    "        alexis_speak('Here is what I found for ' + search)\n",
    "    if 'location' in voice_data:\n",
    "        location = record_audio('What is the location?')\n",
    "        url = 'https://google.nl/maps/place/' + location + '/&amp;'\n",
    "        webbrowser.get().open(url)\n",
    "        alexis_speak('Here is the location of ' + location)\n",
    "    if 'exit' in voice_data:\n",
    "        exit()\n",
    "\n",
    "time.sleep(1)\n",
    "alexis_speak('How can I help you?')\n",
    "while 1:\n",
    "    voice_data = record_audio()\n",
    "    respond(voice_data)"
   ]
  },
  {
   "cell_type": "code",
   "execution_count": null,
   "id": "protecting-remark",
   "metadata": {},
   "outputs": [],
   "source": []
  }
 ],
 "metadata": {
  "kernelspec": {
   "display_name": "Python 3",
   "language": "python",
   "name": "python3"
  },
  "language_info": {
   "codemirror_mode": {
    "name": "ipython",
    "version": 3
   },
   "file_extension": ".py",
   "mimetype": "text/x-python",
   "name": "python",
   "nbconvert_exporter": "python",
   "pygments_lexer": "ipython3",
   "version": "3.8.8"
  }
 },
 "nbformat": 4,
 "nbformat_minor": 5
}
